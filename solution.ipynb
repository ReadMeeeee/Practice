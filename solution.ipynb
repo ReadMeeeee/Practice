{
 "cells": [
  {
   "metadata": {},
   "cell_type": "markdown",
   "source": [
    "# Практическое задание\n",
    "\n",
    "\n",
    "## Задача\n",
    "\n",
    "Есть переписка ТП с пользователем.\n",
    "Переписка содержит все данные по решению инцидента\n",
    "- описание и уточнение проблемы,\n",
    "- обсуждение вариантов решения,\n",
    "- итоговое решение\n",
    "\n",
    "На основе переписки формировать два текста:\n",
    "1. краткое описание проблемы (возможно, с выделением ключевых слов),\n",
    "2. шаги решения (инструкция).\n",
    "\n",
    "Будет использоваться механизм поиска похожих обращений (по описанию проблемы)\n",
    "\n",
    "\n",
    "## Ожидаемое решение\n",
    "Функция:\n",
    "```chat_process(переписка | список переписок): -> solution```\n",
    "\n",
    "\n",
    "## Подробный разбор\n",
    "### 1. Извлечение данных из .docx файлов\n",
    "\n",
    "### 2. Обработка входных данных:\n",
    "- Создание класса переписки\n",
    "    - Имя компании\n",
    "    - Массив номеров обращений\n",
    "    - Список пар [отправитель, текст сообщения]\n",
    "- Сохранение переписок из .docx в массив\n",
    "\n",
    "### 3. Подготовка данных к обработке ИИ\n",
    "#### 3.1. Очистка и форматирование чатов\n",
    "#### 3.2. Подготовка директории и загрузка обработанных текстов\n",
    "\n",
    "#### 4. Описание основного процесса обработки переписки/ переписок:\n",
    "- Получение данных в готовом виде (класс переписки/ список класса переписки)\n",
    "- Обработка данных по списку или единичному экземпляру\n",
    "- Запаковка в специальную структуру\n",
    "- Возвращение списка\n",
    "\n",
    "#### 4.1. Описание структуры для данных на выход:\n",
    "- Имя компании\n",
    "- Массив номеров обращений\n",
    "- Краткое описание проблемы\n",
    "- Ключевые слов\n",
    "- Решение проблемы\n",
    "\n",
    "#### 4.2. Описание основной функции:\n",
    "- Подготовка места для загрузки текста для обработки\n",
    "- Создание конфигурационной области:\n",
    "    - API ИИ\n",
    "    - Аббревиатуры для понимания ИИ\n",
    "    - Инструкции для обработки чатов\n",
    "- Запросы инструктивным промптом к ИИ по АПИ для:\n",
    "    - формирования краткого описания проблемы (по шаблону?)\n",
    "    - нахождения ключевых слов (с примерами)\n",
    "    - нахождения шагов решения\n"
   ],
   "id": "944e57bc8df88fb9"
  },
  {
   "metadata": {},
   "cell_type": "markdown",
   "source": "### 1. Функция извлечения .docx из папки",
   "id": "9ffd3f566b532893"
  },
  {
   "metadata": {
    "ExecuteTime": {
     "end_time": "2025-05-06T15:14:23.767442Z",
     "start_time": "2025-05-06T15:14:22.929837Z"
    }
   },
   "cell_type": "code",
   "source": "%pip install python-docx",
   "id": "517a8bc17d59b5c",
   "outputs": [
    {
     "name": "stdout",
     "output_type": "stream",
     "text": [
      "Requirement already satisfied: python-docx in c:\\users\\admin\\pycharmprojects\\pratctice\\.venv\\lib\\site-packages (1.1.2)\n",
      "Requirement already satisfied: lxml>=3.1.0 in c:\\users\\admin\\pycharmprojects\\pratctice\\.venv\\lib\\site-packages (from python-docx) (5.4.0)\n",
      "Requirement already satisfied: typing-extensions>=4.9.0 in c:\\users\\admin\\pycharmprojects\\pratctice\\.venv\\lib\\site-packages (from python-docx) (4.13.2)\n",
      "Note: you may need to restart the kernel to use updated packages.\n"
     ]
    },
    {
     "name": "stderr",
     "output_type": "stream",
     "text": [
      "\n",
      "[notice] A new release of pip is available: 25.0.1 -> 25.1.1\n",
      "[notice] To update, run: python.exe -m pip install --upgrade pip\n"
     ]
    }
   ],
   "execution_count": 272
  },
  {
   "metadata": {
    "ExecuteTime": {
     "end_time": "2025-05-06T15:14:23.797944Z",
     "start_time": "2025-05-06T15:14:23.778735Z"
    }
   },
   "cell_type": "code",
   "source": [
    "from os import listdir\n",
    "from docx import Document\n",
    "\n",
    "\n",
    "def load_docx_from_project(path_in_project='input_data/'):\n",
    "    documents = []\n",
    "\n",
    "    for filename in listdir(path_in_project):\n",
    "        if filename.endswith('.docx'):\n",
    "            full_path = path.join(path_in_project, filename)\n",
    "            try:\n",
    "                document = Document(full_path)\n",
    "                documents.append([filename, document])\n",
    "            except Exception as e:\n",
    "                print(f\"Не удалось загрузить {filename}: {e}\")\n",
    "\n",
    "    return documents\n",
    "\n",
    "\n",
    "# Извлечение файлов .docx\n",
    "docs = load_docx_from_project()\n"
   ],
   "id": "33fd21418cee50e",
   "outputs": [],
   "execution_count": 273
  },
  {
   "metadata": {},
   "cell_type": "markdown",
   "source": "### 2. Обработка входных данных",
   "id": "34b60c7ceb302418"
  },
  {
   "metadata": {},
   "cell_type": "markdown",
   "source": "#### 2.1. Описание класса Chat",
   "id": "9038d220d6ec7d0b"
  },
  {
   "metadata": {
    "ExecuteTime": {
     "end_time": "2025-05-06T15:14:23.810888Z",
     "start_time": "2025-05-06T15:14:23.807620Z"
    }
   },
   "cell_type": "code",
   "source": [
    "from dataclasses import dataclass\n",
    "\n",
    "\n",
    "@dataclass\n",
    "class Message:\n",
    "    sender: str\n",
    "    text: str\n",
    "\n",
    "\n",
    "@dataclass\n",
    "class Chat:\n",
    "    messages: list[Message]\n",
    "    name: str = None\n",
    "    numbers: list[str] = None\n"
   ],
   "id": "712007a1246bb310",
   "outputs": [],
   "execution_count": 274
  },
  {
   "metadata": {},
   "cell_type": "markdown",
   "source": "#### 2.2. Изменение типа данных (из .docx в Chat)",
   "id": "7e2e38acf7aada33"
  },
  {
   "metadata": {
    "ExecuteTime": {
     "end_time": "2025-05-06T15:14:23.872972Z",
     "start_time": "2025-05-06T15:14:23.820739Z"
    }
   },
   "cell_type": "code",
   "source": [
    "def convert_from_docx(document: tuple[str, Document]):\n",
    "    name = document[0][:-5]\n",
    "\n",
    "    table = document[1].tables[0]\n",
    "    numbers: list[str] = []\n",
    "    messages: list[Message] = []\n",
    "    for row in table.rows[1:]:\n",
    "        cells = row.cells\n",
    "        message = Message(cells[1].text, cells[2].text)\n",
    "\n",
    "        numbers.append(cells[0].text)\n",
    "        messages.append(message)\n",
    "    numbers = set(numbers)\n",
    "\n",
    "    chat = Chat(\n",
    "        name=name,\n",
    "        numbers=numbers,\n",
    "        messages=messages\n",
    "    )\n",
    "    '''\n",
    "    print(f\"|{'Компания':<16}|\", chat.name,\n",
    "          f\"\\n|{'№ обращений':<16}|\", chat.numbers,\n",
    "          f\"\\n|{'Отправитель':<16}|\", chat.messages[0].sender,\n",
    "          f\"\\n|{'Текст сообщения':<16}|\\n\", chat.messages[0].text)\n",
    "    '''\n",
    "    return chat\n",
    "\n",
    "\n",
    "# Изменение типа переменных\n",
    "chats: list[Chat] = []\n",
    "for doc in docs:\n",
    "    chat = convert_from_docx(doc)\n",
    "    chats.append(chat)\n"
   ],
   "id": "e30f27a245f4eff3",
   "outputs": [],
   "execution_count": 275
  },
  {
   "metadata": {},
   "cell_type": "markdown",
   "source": "### 3. Подготовка данных к обработке ИИ",
   "id": "8a11e15701a18420"
  },
  {
   "metadata": {},
   "cell_type": "markdown",
   "source": "#### 3.1. Очистка и форматирование чатов",
   "id": "b864aca09f02223a"
  },
  {
   "metadata": {
    "ExecuteTime": {
     "end_time": "2025-05-06T15:14:23.892393Z",
     "start_time": "2025-05-06T15:14:23.883014Z"
    }
   },
   "cell_type": "code",
   "source": [
    "# Функция очистки текста\n",
    "REMOVE_CHARS = {\n",
    "    0x00A0: None,  # NBSP – неразрывный пробел\n",
    "    0x00AD: None,  # SHY – мягкий перенос\n",
    "    0x200B: None,  # ZWSP – нулевой пробел\n",
    "    0xFEFF: None   # BOM – метка порядка байтов\n",
    "}\n",
    "\n",
    "\n",
    "from re import sub\n",
    "\n",
    "\n",
    "def clear_text(\n",
    "    text: str,\n",
    "    symbols_to_remove: dict[int, None],\n",
    "    to_lower: bool = False,\n",
    "    normalize_spaces: bool = True\n",
    ") -> str:\n",
    "    text = text.translate(symbols_to_remove)\n",
    "    text = sub(r'\\n+', '\\n', text)\n",
    "    text = sub(r'[ \\t]+\\n', '\\n', text)\n",
    "\n",
    "    if normalize_spaces:\n",
    "        text = sub(r'[ \\t]{2,}', ' ', text)\n",
    "\n",
    "    text = \"\\n\".join(line.strip() for line in text.splitlines())\n",
    "\n",
    "    if to_lower:\n",
    "        text = text.lower()\n",
    "\n",
    "    return text.strip()\n",
    "\n",
    "\n",
    "def format_chat(chat: Chat) -> tuple[str, str]:\n",
    "    dialog = \"\"\n",
    "\n",
    "    for message in chat.messages:\n",
    "        cleared_text = clear_text(message.text, REMOVE_CHARS)\n",
    "        dialog += (message.sender + ': ' + '\\n' +\n",
    "                   cleared_text + '\\n\\n')\n",
    "\n",
    "    name_data = tuple([chat.name, dialog])\n",
    "    return name_data\n",
    "\n",
    "\n",
    "texts_to_process: list[tuple[str, str]] = []\n",
    "for chat in chats:\n",
    "    texts_to_process.append(format_chat(chat))\n"
   ],
   "id": "19083d80bd2f4f50",
   "outputs": [],
   "execution_count": 276
  },
  {
   "metadata": {},
   "cell_type": "markdown",
   "source": "#### 3.2. Подготовка директории и загрузка обработанных текстов",
   "id": "e2d931172e80091d"
  },
  {
   "metadata": {
    "ExecuteTime": {
     "end_time": "2025-05-06T15:14:23.905701Z",
     "start_time": "2025-05-06T15:14:23.901796Z"
    }
   },
   "cell_type": "code",
   "source": [
    "from os import makedirs\n",
    "\n",
    "\n",
    "def ensure_folder_exists(folder_path: str = \"to_process\") -> None:\n",
    "    makedirs(folder_path, exist_ok=True)\n",
    "\n",
    "\n",
    "def write_text_to_file(\n",
    "    name_data: tuple[str, str],\n",
    "    folder_path: str = \"to_process\"\n",
    ") -> None:\n",
    "    file_path = folder_path + '/' + name_data[0] + \".txt\"\n",
    "    with open(file_path, \"w\", encoding=\"utf-8\") as f:\n",
    "        f.write(name_data[1])\n",
    "\n",
    "\n",
    "ensure_folder_exists()\n",
    "for data in texts_to_process:\n",
    "    write_text_to_file(data)\n"
   ],
   "id": "87b8e12ee34477cf",
   "outputs": [],
   "execution_count": 277
  },
  {
   "metadata": {},
   "cell_type": "markdown",
   "source": "### 4. Описание структуры для данных на выход:",
   "id": "9a635759da6fae1"
  },
  {
   "metadata": {
    "ExecuteTime": {
     "end_time": "2025-05-06T15:14:23.919355Z",
     "start_time": "2025-05-06T15:14:23.916648Z"
    }
   },
   "cell_type": "code",
   "source": [
    "@dataclass\n",
    "class ProblemWithSolution:\n",
    "        description: str\n",
    "        keywords: list[str]\n",
    "        solution: str\n",
    "        name: str = \"untitled\"\n",
    "        numbers: list[str] = None\n"
   ],
   "id": "f1bbac90040e184a",
   "outputs": [],
   "execution_count": 278
  },
  {
   "metadata": {},
   "cell_type": "markdown",
   "source": [
    "### 4.2. Подробное описание фрагмента обработки из основной функции:\n",
    "- Запросы инструктивным промптом к ИИ по АПИ для:\n",
    "    - формирования краткого описания проблемы (по шаблону?)\n",
    "    - нахождения ключевых слов (с примерами)\n",
    "    - нахождения шагов решения\n",
    "- Одновременно все 3 запроса (можно без обхода GIL, тк IO)"
   ],
   "id": "36fdbf44199c7090"
  },
  {
   "metadata": {
    "ExecuteTime": {
     "end_time": "2025-05-06T15:14:23.930986Z",
     "start_time": "2025-05-06T15:14:23.928627Z"
    }
   },
   "cell_type": "code",
   "source": [
    "def load_data(instruction_path: str) -> str:\n",
    "    with open(instruction_path, \"r\", encoding=\"utf-8\") as f:\n",
    "        return f.read()"
   ],
   "id": "4f5a93cf124fd9de",
   "outputs": [],
   "execution_count": 279
  },
  {
   "metadata": {
    "ExecuteTime": {
     "end_time": "2025-05-06T15:14:23.945891Z",
     "start_time": "2025-05-06T15:14:23.941045Z"
    }
   },
   "cell_type": "code",
   "source": [
    "from json import load\n",
    "from dataclasses import dataclass\n",
    "from typing import Optional\n",
    "\n",
    "\n",
    "@dataclass\n",
    "class InstructionBlock:\n",
    "    role: str\n",
    "    instruction: str\n",
    "    context: str\n",
    "    format: Optional[str]\n",
    "    max_tokens: int\n",
    "\n",
    "\n",
    "@dataclass\n",
    "class LLMRequest:\n",
    "    instruction_block: InstructionBlock\n",
    "    task: str\n",
    "\n",
    "    def to_prompt(self) -> list[dict[str, str]]:\n",
    "        prompt = (\n",
    "            f\"{self.instruction_block.instruction}\\n\\n\"\n",
    "            f\"Контекст:\\n{self.instruction_block.context}\\n\\n\"\n",
    "            f\"Формат вывода:\\n{self.instruction_block.format}\\n\\n\"\n",
    "            f\"Ограничение по токенам:\\n{self.instruction_block.max_tokens}\\n\\n\"\n",
    "            f\"Входные данные:\\n{self.task}\"\n",
    "        )\n",
    "        return [\n",
    "            {\"role\": \"system\", \"content\": self.instruction_block.role},\n",
    "            {\"role\": \"user\", \"content\": prompt}\n",
    "        ]\n",
    "\n",
    "    @property\n",
    "    def max_tokens(self) -> int:\n",
    "        return self.instruction_block.max_tokens\n",
    "\n",
    "\n",
    "def load_instruction_file(json_path: str):\n",
    "    with open(json_path, \"r\", encoding=\"utf-8\") as f:\n",
    "        data = load(f)\n",
    "\n",
    "    abbreviations = \"\\n\".join(data[\"context\"])\n",
    "    role = data[\"role\"]\n",
    "\n",
    "    def make_instruction(key: str) -> InstructionBlock:\n",
    "        item = data[\"instructions\"][key]\n",
    "        return InstructionBlock(\n",
    "            role=role,\n",
    "            instruction=item[\"instruction\"],\n",
    "            context=abbreviations,\n",
    "            format=item[\"response_format\"],\n",
    "            max_tokens=item[\"max_tokens\"]\n",
    "        )\n",
    "\n",
    "    return {\n",
    "        \"abbreviations\": abbreviations,\n",
    "        \"instruction_for_description\": make_instruction(\"description\"),\n",
    "        \"instruction_for_keywords\": make_instruction(\"keywords\"),\n",
    "        \"instruction_for_solution\": make_instruction(\"solution\"),\n",
    "    }"
   ],
   "id": "23f3b74c46df54ba",
   "outputs": [],
   "execution_count": 280
  },
  {
   "metadata": {
    "ExecuteTime": {
     "end_time": "2025-05-06T15:14:24.817229Z",
     "start_time": "2025-05-06T15:14:23.955823Z"
    }
   },
   "cell_type": "code",
   "source": "%pip install openai",
   "id": "66e3dba71139f265",
   "outputs": [
    {
     "name": "stdout",
     "output_type": "stream",
     "text": [
      "Requirement already satisfied: openai in c:\\users\\admin\\pycharmprojects\\pratctice\\.venv\\lib\\site-packages (1.77.0)\n",
      "Requirement already satisfied: anyio<5,>=3.5.0 in c:\\users\\admin\\pycharmprojects\\pratctice\\.venv\\lib\\site-packages (from openai) (4.9.0)\n",
      "Requirement already satisfied: distro<2,>=1.7.0 in c:\\users\\admin\\pycharmprojects\\pratctice\\.venv\\lib\\site-packages (from openai) (1.9.0)\n",
      "Requirement already satisfied: httpx<1,>=0.23.0 in c:\\users\\admin\\pycharmprojects\\pratctice\\.venv\\lib\\site-packages (from openai) (0.28.1)\n",
      "Requirement already satisfied: jiter<1,>=0.4.0 in c:\\users\\admin\\pycharmprojects\\pratctice\\.venv\\lib\\site-packages (from openai) (0.9.0)\n",
      "Requirement already satisfied: pydantic<3,>=1.9.0 in c:\\users\\admin\\pycharmprojects\\pratctice\\.venv\\lib\\site-packages (from openai) (2.11.4)\n",
      "Requirement already satisfied: sniffio in c:\\users\\admin\\pycharmprojects\\pratctice\\.venv\\lib\\site-packages (from openai) (1.3.1)\n",
      "Requirement already satisfied: tqdm>4 in c:\\users\\admin\\pycharmprojects\\pratctice\\.venv\\lib\\site-packages (from openai) (4.67.1)\n",
      "Requirement already satisfied: typing-extensions<5,>=4.11 in c:\\users\\admin\\pycharmprojects\\pratctice\\.venv\\lib\\site-packages (from openai) (4.13.2)\n",
      "Requirement already satisfied: idna>=2.8 in c:\\users\\admin\\pycharmprojects\\pratctice\\.venv\\lib\\site-packages (from anyio<5,>=3.5.0->openai) (3.10)\n",
      "Requirement already satisfied: certifi in c:\\users\\admin\\pycharmprojects\\pratctice\\.venv\\lib\\site-packages (from httpx<1,>=0.23.0->openai) (2025.4.26)\n",
      "Requirement already satisfied: httpcore==1.* in c:\\users\\admin\\pycharmprojects\\pratctice\\.venv\\lib\\site-packages (from httpx<1,>=0.23.0->openai) (1.0.9)\n",
      "Requirement already satisfied: h11>=0.16 in c:\\users\\admin\\pycharmprojects\\pratctice\\.venv\\lib\\site-packages (from httpcore==1.*->httpx<1,>=0.23.0->openai) (0.16.0)\n",
      "Requirement already satisfied: annotated-types>=0.6.0 in c:\\users\\admin\\pycharmprojects\\pratctice\\.venv\\lib\\site-packages (from pydantic<3,>=1.9.0->openai) (0.7.0)\n",
      "Requirement already satisfied: pydantic-core==2.33.2 in c:\\users\\admin\\pycharmprojects\\pratctice\\.venv\\lib\\site-packages (from pydantic<3,>=1.9.0->openai) (2.33.2)\n",
      "Requirement already satisfied: typing-inspection>=0.4.0 in c:\\users\\admin\\pycharmprojects\\pratctice\\.venv\\lib\\site-packages (from pydantic<3,>=1.9.0->openai) (0.4.0)\n",
      "Requirement already satisfied: colorama in c:\\users\\admin\\pycharmprojects\\pratctice\\.venv\\lib\\site-packages (from tqdm>4->openai) (0.4.6)\n",
      "Note: you may need to restart the kernel to use updated packages.\n"
     ]
    },
    {
     "name": "stderr",
     "output_type": "stream",
     "text": [
      "\n",
      "[notice] A new release of pip is available: 25.0.1 -> 25.1.1\n",
      "[notice] To update, run: python.exe -m pip install --upgrade pip\n"
     ]
    }
   ],
   "execution_count": 281
  },
  {
   "metadata": {
    "ExecuteTime": {
     "end_time": "2025-05-06T15:14:24.831429Z",
     "start_time": "2025-05-06T15:14:24.828591Z"
    }
   },
   "cell_type": "code",
   "source": [
    "from openai import OpenAI\n",
    "\n",
    "\n",
    "class AIModelAPI:\n",
    "    def __init__(self, api: str, url: str, model_name: str):\n",
    "        self.api = api\n",
    "        self.url = url\n",
    "        self.model_name = model_name\n",
    "        self.client = OpenAI(api_key=self.api, base_url=self.url)\n",
    "\n",
    "    def get_response(self, request: LLMRequest,\n",
    "                     max_tokens: int = 50, temperature: float = 0.1):\n",
    "        response = self.client.chat.completions.create(\n",
    "            model=self.model_name,\n",
    "            messages=request.to_prompt(),\n",
    "            stream=False,\n",
    "            max_tokens=max_tokens,\n",
    "            temperature=temperature\n",
    "        )\n",
    "        return response.choices[0].message.content\n"
   ],
   "id": "3f5c93f054ecbac6",
   "outputs": [],
   "execution_count": 282
  },
  {
   "metadata": {
    "ExecuteTime": {
     "end_time": "2025-05-06T15:14:24.852357Z",
     "start_time": "2025-05-06T15:14:24.846085Z"
    }
   },
   "cell_type": "code",
   "source": [
    "from concurrent.futures import ThreadPoolExecutor, as_completed\n",
    "from os import path\n",
    "\n",
    "  \n",
    "def chat_process(\n",
    "        model: AIModelAPI,\n",
    "        path_to_instruct_json: str,\n",
    "        path_to_task_txt: str,\n",
    "        multi_thread: bool = False\n",
    ") -> ProblemWithSolution:\n",
    "\n",
    "    def _call_request(request: LLMRequest) -> str:\n",
    "        result = model.get_response(request, max_tokens=request.max_tokens)\n",
    "        return result\n",
    "\n",
    "    def _check_json_and_txt(path_json: str, path_to_txt: str,) -> None:\n",
    "        shaped_path_task = path.splitext(path.basename(path_to_txt))\n",
    "        format_of_file_task = shaped_path_task[1]\n",
    "        if format_of_file_task != \".txt\":\n",
    "            raise ValueError(f\"Ожидаемый формат файла задачи - .txt, получен - {format_of_file_task}\")\n",
    "        \n",
    "        shaped_path_instruct = path.splitext(path.basename(path_json))\n",
    "        format_of_file_instruct = shaped_path_instruct[1]\n",
    "        if format_of_file_instruct != \".json\":\n",
    "            raise ValueError(f\"Ожидаемый формат файла инструкций - .json, получен - {format_of_file_task}\")\n",
    "    \n",
    "    \n",
    "    _check_json_and_txt(path_json=path_to_instruct_json, path_to_txt=path_to_task_txt)\n",
    "    \n",
    "    name = path.splitext(path.basename(path_to_task_txt))[0]\n",
    "    \n",
    "    general_task = load_data(path_to_task_txt)\n",
    "\n",
    "    instructions = load_instruction_file(path_to_instruct_json)\n",
    "    i_description = instructions[\"instruction_for_description\"]\n",
    "    i_keywords    = instructions[\"instruction_for_keywords\"]\n",
    "    i_solution    = instructions[\"instruction_for_solution\"]\n",
    "\n",
    "    r_description = LLMRequest(i_description, task=general_task)\n",
    "    r_keywords = LLMRequest(i_keywords,       task=general_task)\n",
    "    r_solution = LLMRequest(i_solution,       task=general_task)\n",
    "\n",
    "    tasks = {\n",
    "        \"description\": r_description,\n",
    "        \"keywords\":    r_keywords,\n",
    "        \"solution\":    r_solution\n",
    "    }\n",
    "\n",
    "    results: dict[str, str] = {}\n",
    "\n",
    "    if multi_thread:\n",
    "        with ThreadPoolExecutor(max_workers=3) as executor:\n",
    "            future_to_label = {\n",
    "                executor.submit(_call_request, request): label\n",
    "                for label, request in tasks.items()\n",
    "            }\n",
    "            for future in as_completed(future_to_label):\n",
    "                label = future_to_label[future]\n",
    "                try:\n",
    "                    results[label] = future.result(timeout=30)\n",
    "                except Exception as e:\n",
    "                    results[label] = f\"Ошибка: {e}\"\n",
    "\n",
    "    else:\n",
    "        for label, request in tasks.items():\n",
    "            try:\n",
    "                results[label] = _call_request(request)\n",
    "            except Exception as e:\n",
    "                results[label] = f\"Ошибка: {e}\"\n",
    "\n",
    "\n",
    "    for key in tasks: results.setdefault(key, \"\")\n",
    "\n",
    "    return ProblemWithSolution(\n",
    "        name=name,\n",
    "        description=results[\"description\"],\n",
    "        keywords=results[\"keywords\"].split(),\n",
    "        solution=results[\"solution\"]\n",
    "    )\n"
   ],
   "id": "9463f57f95afcdb5",
   "outputs": [],
   "execution_count": 283
  },
  {
   "metadata": {
    "ExecuteTime": {
     "end_time": "2025-05-06T15:14:24.978490Z",
     "start_time": "2025-05-06T15:14:24.869462Z"
    }
   },
   "cell_type": "code",
   "source": [
    "from os import getenv\n",
    "from dotenv import load_dotenv\n",
    "\n",
    "\n",
    "load_dotenv()\n",
    "\n",
    "path_to_task_txt = \"to_process/ПАКС ООО.txt\"\n",
    "path_to_instruct_json = \"prompt_data.json\"\n",
    "\n",
    "model_url = \"https://api.deepseek.com\"\n",
    "model_name = \"deepseek-chat\"\n",
    "API_AI = getenv(\"API_DS\")\n",
    "\n",
    "# model_url = \"https://api.openai.com/v1\"\n",
    "# model_name = \"gpt-4-turbo\"\n",
    "# API_AI = getenv(\"API_GPT\")\n",
    "\n",
    "model = AIModelAPI(API_OPENAI, model_url, model_name)\n"
   ],
   "id": "42557b820912b85b",
   "outputs": [],
   "execution_count": 284
  },
  {
   "metadata": {
    "ExecuteTime": {
     "end_time": "2025-05-06T15:14:38.900356Z",
     "start_time": "2025-05-06T15:14:24.988931Z"
    }
   },
   "cell_type": "code",
   "source": [
    "sol = chat_process(\n",
    "    model=model,\n",
    "    path_to_instruct_json=path_to_instruct_json,\n",
    "    path_to_task_txt=path_to_task_txt,\n",
    "    multi_thread=False\n",
    ")\n"
   ],
   "id": "278468bc775fa838",
   "outputs": [],
   "execution_count": 285
  },
  {
   "metadata": {
    "ExecuteTime": {
     "end_time": "2025-05-06T15:14:38.913896Z",
     "start_time": "2025-05-06T15:14:38.911315Z"
    }
   },
   "cell_type": "code",
   "source": [
    "separator = \"-\" * 50\n",
    "\n",
    "print(f\"{sol.name}              \\n{separator}\\n\"\n",
    "      f\"{sol.description}       \\n{separator}\\n\"\n",
    "      f\"{' '.join(sol.keywords)}\\n{separator}\\n\"\n",
    "      f\"{sol.solution}\"                         )"
   ],
   "id": "dfc0d1c7e0364b58",
   "outputs": [
    {
     "name": "stdout",
     "output_type": "stream",
     "text": [
      "ПАКС ООО              \n",
      "--------------------------------------------------\n",
      "Лицензия Скан-Архива допускает использование модуля для ERP после перехода с УПП, требуется интеграция подсистемы.       \n",
      "--------------------------------------------------\n",
      "ERP УПП Скан-Архив СА лицензия рабочие места конфигурация подсистема расширение интеграция дистрибутивы инструкции настройки установка библиотеки Microsoft VCRedist шрифты штрихкод терминальный сервер лицензии файл ключ активация р\n",
      "--------------------------------------------------\n",
      "1. Скачайте и установите библиотеки Microsoft VCRedist 2012, 2013 и 2015-2019 (Клиент):\n",
      "   1.1. vcredist 2012 (x86, x64): [ссылка](https://www.microsoft.com/ru-ru/download/details.aspx?id=30679)\n",
      "   1.2. vcredist 2013 (x86, x64): [ссылка](https://www.microsoft.com/ru-RU/download/details.aspx?id=40784)\n",
      "   1.3. vcredist 2017 (x86, x64): [ссылка](https://support.microsoft.com/ru-ru/help/2977003/the-latest-supported-visual-c-downloads)\n",
      "\n",
      "2. Если работаете в терминальном режиме, установите терминальный сервер лицензий (Клиент): [ссылка](https://yadi.sk/d/yKK6JQcz6IDqVA)\n",
      "\n",
      "3. Установите программную компоненту Скан-Архива (Клиент): [ссылка](https://disk.yandex.ru/d/pCMgMdw00W28TA)\n",
      "\n",
      "4. Установите шрифты для вывода штрихкода из вложения (Клиент): (Fonts.zip)\n",
      "\n",
      "5. Сформируйте файл \"Данные для создания ключа\" и отправьте его в техподдержку (Клиент).\n",
      "\n",
      "6. Получите\n"
     ]
    }
   ],
   "execution_count": 286
  }
 ],
 "metadata": {
  "kernelspec": {
   "display_name": "Python 3",
   "language": "python",
   "name": "python3"
  },
  "language_info": {
   "codemirror_mode": {
    "name": "ipython",
    "version": 2
   },
   "file_extension": ".py",
   "mimetype": "text/x-python",
   "name": "python",
   "nbconvert_exporter": "python",
   "pygments_lexer": "ipython2",
   "version": "2.7.6"
  }
 },
 "nbformat": 4,
 "nbformat_minor": 5
}
